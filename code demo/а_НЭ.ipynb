{
 "cells": [
  {
   "cell_type": "code",
   "id": "initial_id",
   "metadata": {
    "collapsed": true,
    "ExecuteTime": {
     "end_time": "2025-06-01T20:17:19.720956Z",
     "start_time": "2025-06-01T20:17:19.718413Z"
    }
   },
   "source": [
    "import pandas as pd\n",
    "import numpy as np\n",
    "import matplotlib.pyplot as plt\n",
    "from sklearn.tree import DecisionTreeClassifier\n",
    "from sklearn.model_selection import train_test_split, cross_validate, GridSearchCV, StratifiedKFold, KFold, cross_val_score\n",
    "from sklearn.metrics import roc_curve, roc_auc_score\n",
    "import category_encoders as ce\n",
    "from xgboost import XGBClassifier\n",
    "from imblearn.over_sampling import RandomOverSampler"
   ],
   "outputs": [],
   "execution_count": 37
  },
  {
   "metadata": {
    "ExecuteTime": {
     "end_time": "2025-06-01T20:17:19.742160Z",
     "start_time": "2025-06-01T20:17:19.736799Z"
    }
   },
   "cell_type": "code",
   "source": [
    "df_train = pd.read_csv('Data_train.csv')\n",
    "train = df_train.copy(deep=True)\n",
    "df_test = pd.read_csv('Data_test.csv')\n",
    "test = df_test.copy(deep=True)"
   ],
   "id": "9d8aca6014c5f0c5",
   "outputs": [],
   "execution_count": 38
  },
  {
   "metadata": {},
   "cell_type": "markdown",
   "source": "Task1",
   "id": "b90f82d974e689d2"
  },
  {
   "metadata": {
    "ExecuteTime": {
     "end_time": "2025-06-01T20:17:19.753538Z",
     "start_time": "2025-06-01T20:17:19.750574Z"
    }
   },
   "cell_type": "code",
   "source": [
    "print(df_train.isnull().sum())\n",
    "print()\n",
    "print(df_test.isnull().sum())"
   ],
   "id": "fd4160b34d3af9b0",
   "outputs": [
    {
     "name": "stdout",
     "output_type": "stream",
     "text": [
      "type                   0\n",
      "group                 20\n",
      "education              0\n",
      "meal                   0\n",
      "preparation course     0\n",
      "score-1                0\n",
      "score-2                0\n",
      "score-3                0\n",
      "dtype: int64\n",
      "\n",
      "type                   0\n",
      "group                 12\n",
      "education              0\n",
      "meal                   0\n",
      "preparation course     0\n",
      "dtype: int64\n"
     ]
    }
   ],
   "execution_count": 39
  },
  {
   "metadata": {
    "ExecuteTime": {
     "end_time": "2025-06-01T20:17:19.773084Z",
     "start_time": "2025-06-01T20:17:19.770178Z"
    }
   },
   "cell_type": "code",
   "source": [
    "df_train['group'].fillna('unique', inplace=True)\n",
    "df_test['group'].fillna('unique', inplace=True)"
   ],
   "id": "89fa1258c6d56ac9",
   "outputs": [
    {
     "name": "stderr",
     "output_type": "stream",
     "text": [
      "/var/folders/vv/nt_93ffn49329l9mqpwy9z0h0000gn/T/ipykernel_46335/3866996808.py:1: FutureWarning: A value is trying to be set on a copy of a DataFrame or Series through chained assignment using an inplace method.\n",
      "The behavior will change in pandas 3.0. This inplace method will never work because the intermediate object on which we are setting values always behaves as a copy.\n",
      "\n",
      "For example, when doing 'df[col].method(value, inplace=True)', try using 'df.method({col: value}, inplace=True)' or df[col] = df[col].method(value) instead, to perform the operation inplace on the original object.\n",
      "\n",
      "\n",
      "  df_train['group'].fillna('unique', inplace=True)\n",
      "/var/folders/vv/nt_93ffn49329l9mqpwy9z0h0000gn/T/ipykernel_46335/3866996808.py:2: FutureWarning: A value is trying to be set on a copy of a DataFrame or Series through chained assignment using an inplace method.\n",
      "The behavior will change in pandas 3.0. This inplace method will never work because the intermediate object on which we are setting values always behaves as a copy.\n",
      "\n",
      "For example, when doing 'df[col].method(value, inplace=True)', try using 'df.method({col: value}, inplace=True)' or df[col] = df[col].method(value) instead, to perform the operation inplace on the original object.\n",
      "\n",
      "\n",
      "  df_test['group'].fillna('unique', inplace=True)\n"
     ]
    }
   ],
   "execution_count": 40
  },
  {
   "metadata": {},
   "cell_type": "markdown",
   "source": "Task 2",
   "id": "29f90f1dbaed4b5"
  },
  {
   "metadata": {
    "ExecuteTime": {
     "end_time": "2025-06-01T20:17:19.797072Z",
     "start_time": "2025-06-01T20:17:19.793686Z"
    }
   },
   "cell_type": "code",
   "source": [
    "df_train['Pass'] = ((df_train['score-1'] > 50) &(df_train['score-2'] > 50) &\n",
    "        (df_train['score-3'] > 50)).astype(int)\n",
    "(df_train['Pass'] == 0).sum()"
   ],
   "id": "813ef7ac389a29b6",
   "outputs": [
    {
     "data": {
      "text/plain": [
       "145"
      ]
     },
     "execution_count": 41,
     "metadata": {},
     "output_type": "execute_result"
    }
   ],
   "execution_count": 41
  },
  {
   "metadata": {},
   "cell_type": "markdown",
   "source": [
    "Task 3\n",
    "\n",
    "№1)"
   ],
   "id": "8d63cc74cba645e9"
  },
  {
   "metadata": {
    "ExecuteTime": {
     "end_time": "2025-06-01T20:17:19.818964Z",
     "start_time": "2025-06-01T20:17:19.815754Z"
    }
   },
   "cell_type": "code",
   "source": [
    "wild = (df_train[df_train['type'] == 'wild']['Pass'] == 1).sum() / len(df_train[df_train['type'] == 'wild'])\n",
    "dom = (df_train[df_train['type'] == 'domestic']['Pass'] == 1).sum() / len(df_train[df_train['type'] == 'domestic'])"
   ],
   "id": "7a54e9b9cbd3808a",
   "outputs": [],
   "execution_count": 42
  },
  {
   "metadata": {
    "ExecuteTime": {
     "end_time": "2025-06-01T20:17:19.829425Z",
     "start_time": "2025-06-01T20:17:19.827774Z"
    }
   },
   "cell_type": "code",
   "source": [
    "print(round(abs(wild - dom), 2))\n",
    "print(abs(wild - dom))"
   ],
   "id": "e95f0019765bda3b",
   "outputs": [
    {
     "name": "stdout",
     "output_type": "stream",
     "text": [
      "0.02\n",
      "0.022580460755730947\n"
     ]
    }
   ],
   "execution_count": 43
  },
  {
   "metadata": {},
   "cell_type": "markdown",
   "source": "№2",
   "id": "ec01bc8c09ce4852"
  },
  {
   "metadata": {
    "ExecuteTime": {
     "end_time": "2025-06-01T20:17:19.846132Z",
     "start_time": "2025-06-01T20:17:19.843542Z"
    }
   },
   "cell_type": "code",
   "source": "df_train[(df_train['Pass'] == 0) & (df_train['education'] == 'high school')].shape[0]",
   "id": "40aa7b07c8a40623",
   "outputs": [
    {
     "data": {
      "text/plain": [
       "35"
      ]
     },
     "execution_count": 44,
     "metadata": {},
     "output_type": "execute_result"
    }
   ],
   "execution_count": 44
  },
  {
   "metadata": {},
   "cell_type": "markdown",
   "source": "№3",
   "id": "4ddaf7accbe60ce"
  },
  {
   "metadata": {
    "ExecuteTime": {
     "end_time": "2025-06-01T20:17:19.865798Z",
     "start_time": "2025-06-01T20:17:19.862792Z"
    }
   },
   "cell_type": "code",
   "source": "df_train[(df_train['Pass'] == 1) & (df_train['preparation course'] == 'none') & (df_train['type'] == 'wild')].shape[0]",
   "id": "d880f76b3f9ed441",
   "outputs": [
    {
     "data": {
      "text/plain": [
       "152"
      ]
     },
     "execution_count": 45,
     "metadata": {},
     "output_type": "execute_result"
    }
   ],
   "execution_count": 45
  },
  {
   "metadata": {},
   "cell_type": "markdown",
   "source": "№4",
   "id": "28533380e6932557"
  },
  {
   "metadata": {
    "ExecuteTime": {
     "end_time": "2025-06-01T20:17:19.884368Z",
     "start_time": "2025-06-01T20:17:19.882471Z"
    }
   },
   "cell_type": "code",
   "source": "df_train['score-1'].median()",
   "id": "711484217a47efb5",
   "outputs": [
    {
     "data": {
      "text/plain": [
       "66.0"
      ]
     },
     "execution_count": 46,
     "metadata": {},
     "output_type": "execute_result"
    }
   ],
   "execution_count": 46
  },
  {
   "metadata": {},
   "cell_type": "markdown",
   "source": "№5",
   "id": "1fcbbe20a2b24ec0"
  },
  {
   "metadata": {
    "ExecuteTime": {
     "end_time": "2025-06-01T20:17:19.911929Z",
     "start_time": "2025-06-01T20:17:19.904830Z"
    }
   },
   "cell_type": "code",
   "source": "df_train[(df_train['type'] == 'domestic') & (df_train['preparation course'] == 'none')].describe()",
   "id": "3d83f93f685fd226",
   "outputs": [
    {
     "data": {
      "text/plain": [
       "          score-1     score-2     score-3        Pass\n",
       "count  230.000000  230.000000  230.000000  230.000000\n",
       "mean    61.373913   69.708696   68.465217    0.756522\n",
       "std     16.085992   15.172585   15.477159    0.430117\n",
       "min      0.000000   17.000000   10.000000    0.000000\n",
       "25%     51.000000   60.250000   59.000000    1.000000\n",
       "50%     62.000000   71.000000   70.000000    1.000000\n",
       "75%     73.000000   80.000000   79.000000    1.000000\n",
       "max    100.000000  100.000000  100.000000    1.000000"
      ],
      "text/html": [
       "<div>\n",
       "<style scoped>\n",
       "    .dataframe tbody tr th:only-of-type {\n",
       "        vertical-align: middle;\n",
       "    }\n",
       "\n",
       "    .dataframe tbody tr th {\n",
       "        vertical-align: top;\n",
       "    }\n",
       "\n",
       "    .dataframe thead th {\n",
       "        text-align: right;\n",
       "    }\n",
       "</style>\n",
       "<table border=\"1\" class=\"dataframe\">\n",
       "  <thead>\n",
       "    <tr style=\"text-align: right;\">\n",
       "      <th></th>\n",
       "      <th>score-1</th>\n",
       "      <th>score-2</th>\n",
       "      <th>score-3</th>\n",
       "      <th>Pass</th>\n",
       "    </tr>\n",
       "  </thead>\n",
       "  <tbody>\n",
       "    <tr>\n",
       "      <th>count</th>\n",
       "      <td>230.000000</td>\n",
       "      <td>230.000000</td>\n",
       "      <td>230.000000</td>\n",
       "      <td>230.000000</td>\n",
       "    </tr>\n",
       "    <tr>\n",
       "      <th>mean</th>\n",
       "      <td>61.373913</td>\n",
       "      <td>69.708696</td>\n",
       "      <td>68.465217</td>\n",
       "      <td>0.756522</td>\n",
       "    </tr>\n",
       "    <tr>\n",
       "      <th>std</th>\n",
       "      <td>16.085992</td>\n",
       "      <td>15.172585</td>\n",
       "      <td>15.477159</td>\n",
       "      <td>0.430117</td>\n",
       "    </tr>\n",
       "    <tr>\n",
       "      <th>min</th>\n",
       "      <td>0.000000</td>\n",
       "      <td>17.000000</td>\n",
       "      <td>10.000000</td>\n",
       "      <td>0.000000</td>\n",
       "    </tr>\n",
       "    <tr>\n",
       "      <th>25%</th>\n",
       "      <td>51.000000</td>\n",
       "      <td>60.250000</td>\n",
       "      <td>59.000000</td>\n",
       "      <td>1.000000</td>\n",
       "    </tr>\n",
       "    <tr>\n",
       "      <th>50%</th>\n",
       "      <td>62.000000</td>\n",
       "      <td>71.000000</td>\n",
       "      <td>70.000000</td>\n",
       "      <td>1.000000</td>\n",
       "    </tr>\n",
       "    <tr>\n",
       "      <th>75%</th>\n",
       "      <td>73.000000</td>\n",
       "      <td>80.000000</td>\n",
       "      <td>79.000000</td>\n",
       "      <td>1.000000</td>\n",
       "    </tr>\n",
       "    <tr>\n",
       "      <th>max</th>\n",
       "      <td>100.000000</td>\n",
       "      <td>100.000000</td>\n",
       "      <td>100.000000</td>\n",
       "      <td>1.000000</td>\n",
       "    </tr>\n",
       "  </tbody>\n",
       "</table>\n",
       "</div>"
      ]
     },
     "execution_count": 47,
     "metadata": {},
     "output_type": "execute_result"
    }
   ],
   "execution_count": 47
  },
  {
   "metadata": {},
   "cell_type": "markdown",
   "source": "# Task 4\n",
   "id": "24e63fd0f3671a72"
  },
  {
   "metadata": {},
   "cell_type": "markdown",
   "source": "a)",
   "id": "fc8838a083986815"
  },
  {
   "metadata": {
    "ExecuteTime": {
     "end_time": "2025-06-01T20:17:19.958582Z",
     "start_time": "2025-06-01T20:17:19.934800Z"
    }
   },
   "cell_type": "code",
   "source": [
    "cat_cols = ['type', 'group', 'education', 'meal', 'preparation course']\n",
    "encoder = ce.OneHotEncoder(cols=cat_cols, use_cat_names=True)\n",
    "df_train = encoder.fit_transform(df_train)\n",
    "df_test = encoder.fit_transform(df_test)"
   ],
   "id": "d8cc25b818671b84",
   "outputs": [],
   "execution_count": 48
  },
  {
   "metadata": {},
   "cell_type": "markdown",
   "source": [
    "тупо можно посмотерть на кол-во колонок в изначально датасете\n",
    "и потом отнять кол-во колонок в датасете после аун хот енкоудинга"
   ],
   "id": "f723790320bf2b08"
  },
  {
   "metadata": {
    "ExecuteTime": {
     "end_time": "2025-06-01T20:17:19.976227Z",
     "start_time": "2025-06-01T20:17:19.974035Z"
    }
   },
   "cell_type": "code",
   "source": [
    "X = df_train.drop(columns=['Pass', 'score-1', 'score-2', 'score-3'])\n",
    "y = df_train['Pass']"
   ],
   "id": "b31a5de2ded2688a",
   "outputs": [],
   "execution_count": 49
  },
  {
   "metadata": {},
   "cell_type": "markdown",
   "source": "b)",
   "id": "7caee629e4119e99"
  },
  {
   "metadata": {
    "ExecuteTime": {
     "end_time": "2025-06-01T20:17:19.995364Z",
     "start_time": "2025-06-01T20:17:19.986397Z"
    }
   },
   "cell_type": "code",
   "source": [
    "model = DecisionTreeClassifier(max_depth=5, criterion='entropy', splitter='best', min_samples_split=2, min_samples_leaf=1, min_weight_fraction_leaf=0.0, max_features=None, random_state=None, max_leaf_nodes=None, min_impurity_decrease=0.0, class_weight=None, ccp_alpha=0.0)\n",
    "score = cross_val_score(model, X, y, cv=3, scoring='roc_auc')"
   ],
   "id": "c6651b38a2533f94",
   "outputs": [],
   "execution_count": 50
  },
  {
   "metadata": {
    "ExecuteTime": {
     "end_time": "2025-06-01T20:17:20.035814Z",
     "start_time": "2025-06-01T20:17:20.033959Z"
    }
   },
   "cell_type": "code",
   "source": "round(score.mean(), 1)",
   "id": "6d1ceb8077ef7ca8",
   "outputs": [
    {
     "data": {
      "text/plain": [
       "0.7"
      ]
     },
     "execution_count": 51,
     "metadata": {},
     "output_type": "execute_result"
    }
   ],
   "execution_count": 51
  },
  {
   "metadata": {},
   "cell_type": "markdown",
   "source": "# Task 5",
   "id": "2083383f4d9828e2"
  },
  {
   "metadata": {},
   "cell_type": "markdown",
   "source": "a)",
   "id": "860fdeb2697478b7"
  },
  {
   "metadata": {
    "ExecuteTime": {
     "end_time": "2025-06-01T20:17:20.134184Z",
     "start_time": "2025-06-01T20:17:20.052640Z"
    }
   },
   "cell_type": "code",
   "source": [
    "modelcv = DecisionTreeClassifier()\n",
    "params = {'max_depth': np.arange(2, 20, 1)}\n",
    "best = GridSearchCV(estimator=modelcv, cv = 3, param_grid=params, scoring='roc_auc')\n",
    "best.fit(X, y)\n",
    "print(best.best_params_)"
   ],
   "id": "97e79a8dc002580f",
   "outputs": [
    {
     "name": "stdout",
     "output_type": "stream",
     "text": [
      "{'max_depth': 2}\n"
     ]
    }
   ],
   "execution_count": 52
  },
  {
   "metadata": {},
   "cell_type": "markdown",
   "source": [
    "b)\n",
    "тут у меня train/test это все теже train_df/test_df\n",
    "\n",
    "train = df_train.copy(deep=True) - т.е по сути это train_df скопированный в другую фичу\n",
    "\n",
    "я это сделал чисто что бы была чистая версия датасета(до всех изменений по заданию)\n",
    "\n"
   ],
   "id": "a0de68c48dd01063"
  },
  {
   "metadata": {
    "ExecuteTime": {
     "end_time": "2025-06-01T20:17:20.146534Z",
     "start_time": "2025-06-01T20:17:20.143379Z"
    }
   },
   "cell_type": "code",
   "source": [
    "train['group'].fillna('unique', inplace=True)\n",
    "test['group'].fillna('unique', inplace=True)\n",
    "train['Pass'] = ((train['score-1'] > 50) &(train['score-2'] > 50) &\n",
    "                    (train['score-3'] > 50)).astype(int)\n",
    "\n",
    "train['cat_bio'] = train['type'] + ',' + train['group']\n"
   ],
   "id": "a41c1108f34f8e14",
   "outputs": [
    {
     "name": "stderr",
     "output_type": "stream",
     "text": [
      "/var/folders/vv/nt_93ffn49329l9mqpwy9z0h0000gn/T/ipykernel_46335/3525902584.py:1: FutureWarning: A value is trying to be set on a copy of a DataFrame or Series through chained assignment using an inplace method.\n",
      "The behavior will change in pandas 3.0. This inplace method will never work because the intermediate object on which we are setting values always behaves as a copy.\n",
      "\n",
      "For example, when doing 'df[col].method(value, inplace=True)', try using 'df.method({col: value}, inplace=True)' or df[col] = df[col].method(value) instead, to perform the operation inplace on the original object.\n",
      "\n",
      "\n",
      "  train['group'].fillna('unique', inplace=True)\n",
      "/var/folders/vv/nt_93ffn49329l9mqpwy9z0h0000gn/T/ipykernel_46335/3525902584.py:2: FutureWarning: A value is trying to be set on a copy of a DataFrame or Series through chained assignment using an inplace method.\n",
      "The behavior will change in pandas 3.0. This inplace method will never work because the intermediate object on which we are setting values always behaves as a copy.\n",
      "\n",
      "For example, when doing 'df[col].method(value, inplace=True)', try using 'df.method({col: value}, inplace=True)' or df[col] = df[col].method(value) instead, to perform the operation inplace on the original object.\n",
      "\n",
      "\n",
      "  test['group'].fillna('unique', inplace=True)\n"
     ]
    }
   ],
   "execution_count": 53
  },
  {
   "metadata": {
    "ExecuteTime": {
     "end_time": "2025-06-01T20:17:20.223647Z",
     "start_time": "2025-06-01T20:17:20.211352Z"
    }
   },
   "cell_type": "code",
   "source": [
    "cat_cols = ['education', 'meal', 'preparation course', 'cat_bio']\n",
    "encoder = ce.OneHotEncoder(cols=cat_cols, use_cat_names=True)\n",
    "train = encoder.fit_transform(train)\n"
   ],
   "id": "957db3a86005d14e",
   "outputs": [],
   "execution_count": 54
  },
  {
   "metadata": {
    "ExecuteTime": {
     "end_time": "2025-06-01T20:17:20.236068Z",
     "start_time": "2025-06-01T20:17:20.233901Z"
    }
   },
   "cell_type": "code",
   "source": [
    "X = train.drop(columns=['Pass', 'score-1', 'score-2', 'score-3', 'type', 'group'])\n",
    "y = train['Pass']"
   ],
   "id": "d73bb6374b5567ac",
   "outputs": [],
   "execution_count": 55
  },
  {
   "metadata": {
    "ExecuteTime": {
     "end_time": "2025-06-01T20:17:20.256224Z",
     "start_time": "2025-06-01T20:17:20.246034Z"
    }
   },
   "cell_type": "code",
   "source": [
    "model = DecisionTreeClassifier(max_depth=5, criterion='entropy', splitter='best', min_samples_split=2, min_samples_leaf=1, min_weight_fraction_leaf=0.0, max_features=None, random_state=None, max_leaf_nodes=None, min_impurity_decrease=0.0, class_weight=None, ccp_alpha=0.0)\n",
    "\n",
    "x_train, x_test, y_train, y_test = train_test_split(X, y, test_size=0.2, random_state=42)\n",
    "\n",
    "score = cross_val_score(model, X, y, cv=3, scoring='roc_auc')\n",
    "round(score.mean(), 2)"
   ],
   "id": "3ec17a7b28122406",
   "outputs": [
    {
     "data": {
      "text/plain": [
       "0.68"
      ]
     },
     "execution_count": 56,
     "metadata": {},
     "output_type": "execute_result"
    }
   ],
   "execution_count": 56
  },
  {
   "metadata": {},
   "cell_type": "markdown",
   "source": "Task 6",
   "id": "4e36b76cfa9d9184"
  },
  {
   "metadata": {
    "ExecuteTime": {
     "end_time": "2025-06-01T20:17:20.274578Z",
     "start_time": "2025-06-01T20:17:20.269017Z"
    }
   },
   "cell_type": "code",
   "source": [
    "train = pd.read_csv('Data_train.csv')\n",
    "test = pd.read_csv('Data_test.csv')\n",
    "train['group'].fillna('unique', inplace=True)\n",
    "train['group'].fillna('unique', inplace=True)"
   ],
   "id": "f4d07f52c2427a9f",
   "outputs": [
    {
     "name": "stderr",
     "output_type": "stream",
     "text": [
      "/var/folders/vv/nt_93ffn49329l9mqpwy9z0h0000gn/T/ipykernel_46335/3096881653.py:3: FutureWarning: A value is trying to be set on a copy of a DataFrame or Series through chained assignment using an inplace method.\n",
      "The behavior will change in pandas 3.0. This inplace method will never work because the intermediate object on which we are setting values always behaves as a copy.\n",
      "\n",
      "For example, when doing 'df[col].method(value, inplace=True)', try using 'df.method({col: value}, inplace=True)' or df[col] = df[col].method(value) instead, to perform the operation inplace on the original object.\n",
      "\n",
      "\n",
      "  train['group'].fillna('unique', inplace=True)\n"
     ]
    }
   ],
   "execution_count": 57
  },
  {
   "metadata": {
    "ExecuteTime": {
     "end_time": "2025-06-01T20:17:20.289683Z",
     "start_time": "2025-06-01T20:17:20.286839Z"
    }
   },
   "cell_type": "code",
   "source": [
    "cat_cols = train.select_dtypes(include=['object', 'category']).columns\n",
    "for cols in cat_cols:\n",
    "    print(f'Column {cols} unique values = {train[cols].unique()}')"
   ],
   "id": "5761d9e610b4ae3a",
   "outputs": [
    {
     "name": "stdout",
     "output_type": "stream",
     "text": [
      "Column type unique values = ['wild' 'domestic']\n",
      "Column group unique values = ['group B' 'group C' 'group E' 'group D' 'group A' 'unique']\n",
      "Column education unique values = ['some high school' \"bachelor's degree\" 'some college'\n",
      " \"associate's degree\" 'high school' \"master's degree\"]\n",
      "Column meal unique values = ['standard' 'reduced']\n",
      "Column preparation course unique values = ['completed' 'none']\n"
     ]
    }
   ],
   "execution_count": 58
  },
  {
   "metadata": {},
   "cell_type": "markdown",
   "source": [
    "Заенкодил категориальные данные маппингом: для фичей где всего присутствует всего 2 уникальных значения-бинарная мапа = [0.1]\n",
    "\n",
    "для education установил иерархическую мапу от \"низшего\" к \"высшему образованию\"\n",
    "\n",
    "а фичу group решил скормить XGboost так как он может рабоать с категориальными данным(там под капотом вроде TargetEncoder)"
   ],
   "id": "65ac917a691af796"
  },
  {
   "metadata": {
    "ExecuteTime": {
     "end_time": "2025-06-01T20:17:20.304869Z",
     "start_time": "2025-06-01T20:17:20.301038Z"
    }
   },
   "cell_type": "code",
   "source": [
    "train['type'] = train['type'].map({'wild':0, 'domestic':1})\n",
    "test['type'] = test['type'].map({'wild':0, 'domestic':1})\n",
    "\n",
    "train['education'] = train['education'].map({'some high school':0, 'some college':0, 'high school':1,\n",
    "                                             \"associate's degree\": 2, \"bachelor's degree\": 3, \"master's degree\": 4})\n",
    "test['education'] = test['education'].map({'some high school':0, 'some college':0, 'high school':1,\n",
    "                                             \"associate's degree\": 2, \"bachelor's degree\": 3, \"master's degree\": 4})\n",
    "\n",
    "train['meal'] = train['meal'].map({'reduced': 0, 'standard': 1})\n",
    "test['meal'] = test['meal'].map({'reduced': 0, 'standard': 1})\n",
    "\n",
    "train['preparation course'] = train['preparation course'].map({'none': 0, 'completed': 1})\n",
    "test['preparation course'] = test['preparation course'].map({'none': 0, 'completed': 1})"
   ],
   "id": "9f205c63c853071e",
   "outputs": [],
   "execution_count": 59
  },
  {
   "metadata": {
    "ExecuteTime": {
     "end_time": "2025-06-01T20:17:20.317778Z",
     "start_time": "2025-06-01T20:17:20.315738Z"
    }
   },
   "cell_type": "code",
   "source": [
    "train['Pass'] = ((train['score-1'] > 50) &(train['score-2'] > 50) &\n",
    "                    (train['score-3'] > 50)).astype(int)"
   ],
   "id": "441e7e74c2143b68",
   "outputs": [],
   "execution_count": 60
  },
  {
   "metadata": {
    "ExecuteTime": {
     "end_time": "2025-06-01T20:17:20.332727Z",
     "start_time": "2025-06-01T20:17:20.328911Z"
    }
   },
   "cell_type": "code",
   "source": [
    "for col in train.columns:\n",
    "    if train[col].dtype == 'object':\n",
    "        train[col] = train[col].astype('category')\n",
    "print(train.dtypes)\n",
    "for col in test.columns:\n",
    "    if test[col].dtype == 'object':\n",
    "        test[col] = test[col].astype('category')\n",
    "print(test.dtypes)"
   ],
   "id": "783b0ed549d56c52",
   "outputs": [
    {
     "name": "stdout",
     "output_type": "stream",
     "text": [
      "type                     int64\n",
      "group                 category\n",
      "education                int64\n",
      "meal                     int64\n",
      "preparation course       int64\n",
      "score-1                  int64\n",
      "score-2                  int64\n",
      "score-3                  int64\n",
      "Pass                     int64\n",
      "dtype: object\n",
      "type                     int64\n",
      "group                 category\n",
      "education                int64\n",
      "meal                     int64\n",
      "preparation course       int64\n",
      "dtype: object\n"
     ]
    }
   ],
   "execution_count": 61
  },
  {
   "metadata": {
    "ExecuteTime": {
     "end_time": "2025-06-01T20:17:20.346589Z",
     "start_time": "2025-06-01T20:17:20.344787Z"
    }
   },
   "cell_type": "code",
   "source": [
    "X = train.drop(columns=['Pass', 'score-1', 'score-2', 'score-3'])\n",
    "y = train['Pass']"
   ],
   "id": "d4d9bde50e2682b8",
   "outputs": [],
   "execution_count": 62
  },
  {
   "metadata": {},
   "cell_type": "markdown",
   "source": [
    "У нас вроде бы есть дисбаланс классов для таргет фичи Pass\n",
    "\n",
    "поэтому библа imblearn для оверсемплинга"
   ],
   "id": "debd109ac4c904b6"
  },
  {
   "metadata": {
    "ExecuteTime": {
     "end_time": "2025-06-01T20:17:20.362569Z",
     "start_time": "2025-06-01T20:17:20.357304Z"
    }
   },
   "cell_type": "code",
   "source": [
    "sampler = RandomOverSampler()\n",
    "X, y = sampler.fit_resample(X, y)\n",
    "\n",
    "x_train, x_test, y_train, y_test = train_test_split(X, y, test_size=0.2, random_state=42)"
   ],
   "id": "d9da7319d86df1f4",
   "outputs": [],
   "execution_count": 63
  },
  {
   "metadata": {},
   "cell_type": "markdown",
   "source": [
    "для метрики ROC-AUC надо предсказывать вероятности принадлежности к классам, а не четкие предсказанные метки классов\n",
    "\n",
    "predict_proba - для вероятностей, predict - классы в задачах классификации"
   ],
   "id": "7a178f901260dc9c"
  },
  {
   "metadata": {
    "ExecuteTime": {
     "end_time": "2025-06-01T20:17:20.504514Z",
     "start_time": "2025-06-01T20:17:20.380855Z"
    }
   },
   "cell_type": "code",
   "source": [
    "model = XGBClassifier(enable_categorical=True)\n",
    "model.fit(x_train, y_train)\n",
    "proba = model.predict_proba(x_test)\n",
    "roc_auc = roc_auc_score(y_test, proba[:, 1])\n",
    "print(roc_auc)"
   ],
   "id": "139e211232a75bd8",
   "outputs": [
    {
     "name": "stdout",
     "output_type": "stream",
     "text": [
      "0.8392213114754098\n"
     ]
    }
   ],
   "execution_count": 64
  },
  {
   "metadata": {
    "ExecuteTime": {
     "end_time": "2025-06-01T20:17:21.142692Z",
     "start_time": "2025-06-01T20:17:20.507492Z"
    }
   },
   "cell_type": "code",
   "source": [
    "kf = KFold(n_splits=5, shuffle=True, random_state=42)\n",
    "scores = cross_val_score(model, X, y, cv=kf, scoring='roc_auc')\n",
    "print(scores)\n",
    "print(scores.mean())"
   ],
   "id": "c16f0378ce432a81",
   "outputs": [
    {
     "name": "stdout",
     "output_type": "stream",
     "text": [
      "[0.83922131 0.80344968 0.7978429  0.80622951 0.77672751]\n",
      "0.8046941805236123\n"
     ]
    }
   ],
   "execution_count": 65
  },
  {
   "metadata": {},
   "cell_type": "markdown",
   "source": "я так и не понял как для ласт таски сохранить файл ((\n",
   "id": "63b25e1575cdd01"
  },
  {
   "metadata": {
    "ExecuteTime": {
     "end_time": "2025-06-01T20:17:21.157363Z",
     "start_time": "2025-06-01T20:17:21.153819Z"
    }
   },
   "cell_type": "code",
   "source": [
    "preds_proba = model.predict_proba(test)[:, 1]\n",
    "pd.Series(preds_proba).to_csv('result.txt', index=False, header=False)"
   ],
   "id": "3c66231973f22944",
   "outputs": [],
   "execution_count": 66
  }
 ],
 "metadata": {
  "kernelspec": {
   "display_name": "Python 3",
   "language": "python",
   "name": "python3"
  },
  "language_info": {
   "codemirror_mode": {
    "name": "ipython",
    "version": 2
   },
   "file_extension": ".py",
   "mimetype": "text/x-python",
   "name": "python",
   "nbconvert_exporter": "python",
   "pygments_lexer": "ipython2",
   "version": "2.7.6"
  }
 },
 "nbformat": 4,
 "nbformat_minor": 5
}
